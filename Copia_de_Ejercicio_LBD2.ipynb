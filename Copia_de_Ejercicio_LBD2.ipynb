{
  "nbformat": 4,
  "nbformat_minor": 0,
  "metadata": {
    "colab": {
      "provenance": [],
      "authorship_tag": "ABX9TyMhZLPrwqUDE7waKkKegY90",
      "include_colab_link": true
    },
    "kernelspec": {
      "name": "python3",
      "display_name": "Python 3"
    },
    "language_info": {
      "name": "python"
    }
  },
  "cells": [
    {
      "cell_type": "markdown",
      "metadata": {
        "id": "view-in-github",
        "colab_type": "text"
      },
      "source": [
        "<a href=\"https://colab.research.google.com/github/StefanyChB/clase1/blob/master/Copia_de_Ejercicio_LBD2.ipynb\" target=\"_parent\"><img src=\"https://colab.research.google.com/assets/colab-badge.svg\" alt=\"Open In Colab\"/></a>"
      ]
    },
    {
      "cell_type": "code",
      "execution_count": null,
      "metadata": {
        "id": "7N-vgSX2UzY5"
      },
      "outputs": [],
      "source": []
    },
    {
      "cell_type": "markdown",
      "source": [
        "# Actividad practica Semana 2\n",
        "## Maestria en Ciberseguridad\n",
        "## Tratamiento de Datos\n",
        "\n",
        "### Listado de actividades\n",
        "\n",
        "1.- Creacion de un cuaderno de Google Colab para uso de Python e investigacion.\n",
        "\n",
        "2.- Apuntes incluyendo bibliografia utilizada para la investigacion de los siguientes temas:\n",
        "\n",
        "* Librerias Numpy, Pandas, Matplotlib para analisi de datos\n",
        "* Librerias Scikit-Learn, Pytorch y Tensorflow relacionados a ciencia de datos y aprendizaje automatico (Machine Learning)\n",
        "*Proceso de limpieza de datos en Python tanto estructurados como no estructurados (incluir ejemplos con codigo). Casos incluyen celdas vacias, datos erroneo y datos duplicados. Inlcuir ejemplo. Pueden utilizar dataset de Kaggle\n",
        "*Incluir un ejemplo de mineria de texto. Se puede revisar o reutilizar codigos a partir de ejemplos en la base de datos conocida como Kaggle.\n",
        "\n",
        "\n"
      ],
      "metadata": {
        "id": "fAB_0bUlWHU0"
      }
    },
    {
      "cell_type": "markdown",
      "source": [
        "## Parte 1 - Conceptos basicos de libreria de Python\n",
        "\n",
        "### Numpy\n",
        "\n",
        "*Calculos matematicos y logicos\n",
        "\n",
        "*Matrices y cuadros\n",
        "\n",
        "*Elemento principal es el arreglo\n",
        "\n",
        "*Es necesario el conocimiento relacionado a sentencias de contol (condicion, blucle)\n",
        "\n",
        "Enlace de ejercicios python https://www.w3schools.com/python/python_exercises.asp"
      ],
      "metadata": {
        "id": "h64u9ndTZWy4"
      }
    },
    {
      "cell_type": "code",
      "source": [
        "# Import libreria\n",
        "import numpy as np\n",
        "\n",
        "# Restore the original print function\n",
        "del print\n",
        "\n",
        "# Now you can print the array\n",
        "print(array1)\n",
        "\n",
        "#Creacion de lista\n",
        "list1 = [1, 2, 3, 4, 5]\n",
        "print(list1)\n",
        "\n",
        "#Creacion arreglo Numpy\n",
        "array1 = np.array([1, 2, 3, 4, 5])\n",
        "print(array1)\n",
        "\n",
        "#Modificacion de un eleento de la regla\n",
        "matrix = np.array([[1, 2, 3], [4, 5, 6], [7, 8, 9]])\n",
        "print(matrix)\n"
      ],
      "metadata": {
        "colab": {
          "base_uri": "https://localhost:8080/"
        },
        "id": "HAPRf00PaiGC",
        "outputId": "1a698404-d35e-4fe1-ffc7-bf439642ecb4"
      },
      "execution_count": null,
      "outputs": [
        {
          "output_type": "stream",
          "name": "stdout",
          "text": [
            "[10  2  3  4  5]\n",
            "[1, 2, 3, 4, 5]\n",
            "[1 2 3 4 5]\n",
            "[[1 2 3]\n",
            " [4 5 6]\n",
            " [7 8 9]]\n"
          ]
        }
      ]
    },
    {
      "cell_type": "code",
      "source": [
        "#Modificacion de un elemento del arreglo numpy\n",
        "array1[0] = 10\n",
        "print(array1)\n"
      ],
      "metadata": {
        "colab": {
          "base_uri": "https://localhost:8080/"
        },
        "id": "EpbSmbrvcSfA",
        "outputId": "65db0cc4-7c01-4d30-fd26-ac6f69833329"
      },
      "execution_count": null,
      "outputs": [
        {
          "output_type": "stream",
          "name": "stdout",
          "text": [
            "[10  2  3  4  5]\n"
          ]
        }
      ]
    },
    {
      "cell_type": "code",
      "source": [
        "# Atributos de un arreglo\n",
        "print(\"Elementos de mi arreglo\")\n",
        "print(array1.shape)\n",
        "print(array1.dtype)\n",
        "print(array1.size)\n",
        "print(array1.ndim)\n",
        "print()\n",
        "\n",
        "# Atributos de una matriz\n",
        "print(\"Elemento de mi matriz\")\n",
        "print(matrix.shape) # Changed matrix1 to matrix\n",
        "print(matrix.dtype)\n",
        "print(matrix.size)\n",
        "print(matrix.ndim)"
      ],
      "metadata": {
        "colab": {
          "base_uri": "https://localhost:8080/"
        },
        "id": "Pnw2z9-kfndl",
        "outputId": "e520302e-afb5-4abd-84e5-c9212e7d74ff"
      },
      "execution_count": null,
      "outputs": [
        {
          "output_type": "stream",
          "name": "stdout",
          "text": [
            "Elementos de mi arreglo\n",
            "(5,)\n",
            "int64\n",
            "5\n",
            "1\n",
            "\n",
            "Elemento de mi matriz\n",
            "(3, 3)\n",
            "int64\n",
            "9\n",
            "2\n"
          ]
        }
      ]
    },
    {
      "cell_type": "code",
      "source": [
        "# Forma de crear un arreglo\n",
        "# Un arreglo lleno de cero\n",
        "print(\"Arreglo de cero\")\n",
        "array2 = np.zeros(5)\n",
        "print(array2)\n",
        "\n",
        "print(\"Matriz de ceros\")\n",
        "matrix2 = np.zeros((3, 3))\n",
        "print(matrix2)\n",
        "\n",
        "#Un arreglo lleno de unos\n",
        "print(\"Arreglo de unos\")\n",
        "array3 = np.ones(5)\n",
        "print(array3)\n",
        "\n",
        "print(\"Matriz de unos\")\n",
        "matrix3 = np.ones((3, 3))\n",
        "print(matrix3)\n"
      ],
      "metadata": {
        "colab": {
          "base_uri": "https://localhost:8080/"
        },
        "id": "hMDF5zYmhCr5",
        "outputId": "a82f46c3-cae0-40b8-9966-37a91dbd9304"
      },
      "execution_count": null,
      "outputs": [
        {
          "output_type": "stream",
          "name": "stdout",
          "text": [
            "Arreglo de cero\n",
            "[0. 0. 0. 0. 0.]\n",
            "Matriz de ceros\n",
            "[[0. 0. 0.]\n",
            " [0. 0. 0.]\n",
            " [0. 0. 0.]]\n",
            "Arreglo de unos\n",
            "[1. 1. 1. 1. 1.]\n",
            "Matriz de unos\n",
            "[[1. 1. 1.]\n",
            " [1. 1. 1.]\n",
            " [1. 1. 1.]]\n"
          ]
        }
      ]
    },
    {
      "cell_type": "code",
      "source": [
        "data = np.eye(4)\n",
        "print(data)\n",
        "\n",
        "#Otro ejemplo de crear matrices}\n",
        "print()\n",
        "matrix4 = np.full((3, 3), 10)\n",
        "print(matrix4)\n",
        "\n",
        "print()\n",
        "matrix5 = np.random.random((3, 3))\n",
        "print(matrix5)\n",
        "\n",
        "print()\n",
        "matrix6 = np.random.randint(1, 10, (3, 3))\n",
        "print(matrix6)"
      ],
      "metadata": {
        "colab": {
          "base_uri": "https://localhost:8080/"
        },
        "id": "vzB9iKRPj07O",
        "outputId": "d4f98283-00fd-410c-fef1-d9a41cf4e2fe"
      },
      "execution_count": null,
      "outputs": [
        {
          "output_type": "stream",
          "name": "stdout",
          "text": [
            "[[1. 0. 0. 0.]\n",
            " [0. 1. 0. 0.]\n",
            " [0. 0. 1. 0.]\n",
            " [0. 0. 0. 1.]]\n",
            "\n",
            "[[10 10 10]\n",
            " [10 10 10]\n",
            " [10 10 10]]\n",
            "\n",
            "[[0.96690877 0.85179932 0.91698651]\n",
            " [0.06451554 0.9786807  0.13704956]\n",
            " [0.85098752 0.7199654  0.90390772]]\n",
            "\n",
            "[[1 2 1]\n",
            " [2 2 1]\n",
            " [3 8 5]]\n"
          ]
        }
      ]
    },
    {
      "cell_type": "code",
      "source": [
        "#Ordenar de menor a mayor\n",
        "z = np.sort(matrix6)\n",
        "print(z)"
      ],
      "metadata": {
        "colab": {
          "base_uri": "https://localhost:8080/"
        },
        "id": "KVo7qze_lDdH",
        "outputId": "450545a3-a338-44d4-8a1d-69954fe99c89"
      },
      "execution_count": null,
      "outputs": [
        {
          "output_type": "stream",
          "name": "stdout",
          "text": [
            "[[1 1 2]\n",
            " [1 2 2]\n",
            " [3 5 8]]\n"
          ]
        }
      ]
    },
    {
      "cell_type": "markdown",
      "source": [
        "## Pandas\n",
        "\n",
        "* Libreria de Python\n",
        "\n",
        "* Manipulacion y analisis de datos\n",
        "\n",
        "* Estructura de datos\n",
        "\n",
        "* Operaciones para manipulacion de tablas y series\n",
        "\n",
        "* Mayor informacion [Pandas Library)https://pandas.pydata.org/\n",
        "\n",
        "*Variable principal conocida como datagrama (DataFrAME)\n",
        "\n"
      ],
      "metadata": {
        "id": "zh9WFIhclb3D"
      }
    },
    {
      "cell_type": "code",
      "source": [
        "import pandas as pd\n",
        "listado_vehiculos = {\n",
        "    #'marca': ['Toyota', 'Honda', 'Ford', 'Chevrolet'],\n",
        "    'modelo': ['Corolla', 'Civic', 'Mustang', 'Camaro'],\n",
        "    'año': [2020, 2019, 2021, 2022]\n",
        "    }\n",
        "\n",
        "print(\"Impresion del diccionario\")\n",
        "print(listado_vehiculos)\n",
        "\n",
        "print()\n",
        "print(\"Impresion del dataframe\")\n",
        "\n",
        "\n",
        "df = pd.DataFrame(listado_vehiculos)\n",
        "print(df)\n",
        "\n",
        "#Impresion del contenido de una fila del dataframe\n",
        "print()\n",
        "print(\"Impresion del contenido de una fila del dataframe\")\n",
        "print(df.loc[0])\n",
        "\n",
        "#Impresion del contenido de una columna del dataframe\n",
        "print()\n",
        "print(\"Impresion del contenido de una columna del dataframe\")\n",
        "print(df['modelo'])\n",
        "\n",
        "#Imprimir el contenido de una sola celda\n",
        "print()\n",
        "print(\"Imprimir el contenido de una sola celda\")\n",
        "print(df.iloc[0, 1])"
      ],
      "metadata": {
        "colab": {
          "base_uri": "https://localhost:8080/"
        },
        "id": "lvf1hl6SmS-Q",
        "outputId": "9b06edf5-4925-4ad7-bdcb-1097f77ab4ad"
      },
      "execution_count": null,
      "outputs": [
        {
          "output_type": "stream",
          "name": "stdout",
          "text": [
            "Impresion del diccionario\n",
            "{'modelo': ['Corolla', 'Civic', 'Mustang', 'Camaro'], 'año': [2020, 2019, 2021, 2022]}\n",
            "\n",
            "Impresion del dataframe\n",
            "    modelo   año\n",
            "0  Corolla  2020\n",
            "1    Civic  2019\n",
            "2  Mustang  2021\n",
            "3   Camaro  2022\n",
            "\n",
            "Impresion del contenido de una fila del dataframe\n",
            "modelo    Corolla\n",
            "año          2020\n",
            "Name: 0, dtype: object\n",
            "\n",
            "Impresion del contenido de una columna del dataframe\n",
            "0    Corolla\n",
            "1      Civic\n",
            "2    Mustang\n",
            "3     Camaro\n",
            "Name: modelo, dtype: object\n",
            "\n",
            "Imprimir el contenido de una sola celda\n",
            "2020\n"
          ]
        }
      ]
    },
    {
      "cell_type": "code",
      "source": [
        "df=pd.DataFrame(listado_vehiculos, index=['Toyota', 'Hoonda', 'Ford', 'kia'])\n",
        "print(df)\n",
        "#Impresion del contenido de una fila\n",
        "print()\n",
        "print(\"Impresion del contenido de una fila del dataframe\")\n",
        "print(df.loc['Toyota'])\n",
        "\n"
      ],
      "metadata": {
        "colab": {
          "base_uri": "https://localhost:8080/"
        },
        "id": "8qAPwd_8pRMD",
        "outputId": "57cdb9b7-bf4f-4c3d-e0ef-589ccbd5170c"
      },
      "execution_count": null,
      "outputs": [
        {
          "output_type": "stream",
          "name": "stdout",
          "text": [
            "         modelo   año\n",
            "Toyota  Corolla  2020\n",
            "Hoonda    Civic  2019\n",
            "Ford    Mustang  2021\n",
            "kia      Camaro  2022\n",
            "\n",
            "Impresion del contenido de una fila del dataframe\n",
            "modelo    Corolla\n",
            "año          2020\n",
            "Name: Toyota, dtype: object\n"
          ]
        }
      ]
    },
    {
      "cell_type": "code",
      "source": [
        "# Lectura de datos a partir de un archivo formato CSV\n",
        "from google.colab import files\n",
        "import io\n",
        "\n",
        "uploaded = files.upload()\n",
        "df_archvo_importado = pd.read_csv(io.BytesIO(uploaded['Student_performance_data _.csv']))\n",
        "print(\"Impresion del dataset cargado\")\n",
        "print()\n",
        "print(df_archvo_importado)"
      ],
      "metadata": {
        "colab": {
          "base_uri": "https://localhost:8080/",
          "height": 802
        },
        "id": "XTzWIpbWtZxG",
        "outputId": "4e92eb40-1c2d-449a-9ddb-25ef3f65c1f4"
      },
      "execution_count": null,
      "outputs": [
        {
          "output_type": "display_data",
          "data": {
            "text/plain": [
              "<IPython.core.display.HTML object>"
            ],
            "text/html": [
              "\n",
              "     <input type=\"file\" id=\"files-d5e19a80-04fe-469b-8117-1adf35699af6\" name=\"files[]\" multiple disabled\n",
              "        style=\"border:none\" />\n",
              "     <output id=\"result-d5e19a80-04fe-469b-8117-1adf35699af6\">\n",
              "      Upload widget is only available when the cell has been executed in the\n",
              "      current browser session. Please rerun this cell to enable.\n",
              "      </output>\n",
              "      <script>// Copyright 2017 Google LLC\n",
              "//\n",
              "// Licensed under the Apache License, Version 2.0 (the \"License\");\n",
              "// you may not use this file except in compliance with the License.\n",
              "// You may obtain a copy of the License at\n",
              "//\n",
              "//      http://www.apache.org/licenses/LICENSE-2.0\n",
              "//\n",
              "// Unless required by applicable law or agreed to in writing, software\n",
              "// distributed under the License is distributed on an \"AS IS\" BASIS,\n",
              "// WITHOUT WARRANTIES OR CONDITIONS OF ANY KIND, either express or implied.\n",
              "// See the License for the specific language governing permissions and\n",
              "// limitations under the License.\n",
              "\n",
              "/**\n",
              " * @fileoverview Helpers for google.colab Python module.\n",
              " */\n",
              "(function(scope) {\n",
              "function span(text, styleAttributes = {}) {\n",
              "  const element = document.createElement('span');\n",
              "  element.textContent = text;\n",
              "  for (const key of Object.keys(styleAttributes)) {\n",
              "    element.style[key] = styleAttributes[key];\n",
              "  }\n",
              "  return element;\n",
              "}\n",
              "\n",
              "// Max number of bytes which will be uploaded at a time.\n",
              "const MAX_PAYLOAD_SIZE = 100 * 1024;\n",
              "\n",
              "function _uploadFiles(inputId, outputId) {\n",
              "  const steps = uploadFilesStep(inputId, outputId);\n",
              "  const outputElement = document.getElementById(outputId);\n",
              "  // Cache steps on the outputElement to make it available for the next call\n",
              "  // to uploadFilesContinue from Python.\n",
              "  outputElement.steps = steps;\n",
              "\n",
              "  return _uploadFilesContinue(outputId);\n",
              "}\n",
              "\n",
              "// This is roughly an async generator (not supported in the browser yet),\n",
              "// where there are multiple asynchronous steps and the Python side is going\n",
              "// to poll for completion of each step.\n",
              "// This uses a Promise to block the python side on completion of each step,\n",
              "// then passes the result of the previous step as the input to the next step.\n",
              "function _uploadFilesContinue(outputId) {\n",
              "  const outputElement = document.getElementById(outputId);\n",
              "  const steps = outputElement.steps;\n",
              "\n",
              "  const next = steps.next(outputElement.lastPromiseValue);\n",
              "  return Promise.resolve(next.value.promise).then((value) => {\n",
              "    // Cache the last promise value to make it available to the next\n",
              "    // step of the generator.\n",
              "    outputElement.lastPromiseValue = value;\n",
              "    return next.value.response;\n",
              "  });\n",
              "}\n",
              "\n",
              "/**\n",
              " * Generator function which is called between each async step of the upload\n",
              " * process.\n",
              " * @param {string} inputId Element ID of the input file picker element.\n",
              " * @param {string} outputId Element ID of the output display.\n",
              " * @return {!Iterable<!Object>} Iterable of next steps.\n",
              " */\n",
              "function* uploadFilesStep(inputId, outputId) {\n",
              "  const inputElement = document.getElementById(inputId);\n",
              "  inputElement.disabled = false;\n",
              "\n",
              "  const outputElement = document.getElementById(outputId);\n",
              "  outputElement.innerHTML = '';\n",
              "\n",
              "  const pickedPromise = new Promise((resolve) => {\n",
              "    inputElement.addEventListener('change', (e) => {\n",
              "      resolve(e.target.files);\n",
              "    });\n",
              "  });\n",
              "\n",
              "  const cancel = document.createElement('button');\n",
              "  inputElement.parentElement.appendChild(cancel);\n",
              "  cancel.textContent = 'Cancel upload';\n",
              "  const cancelPromise = new Promise((resolve) => {\n",
              "    cancel.onclick = () => {\n",
              "      resolve(null);\n",
              "    };\n",
              "  });\n",
              "\n",
              "  // Wait for the user to pick the files.\n",
              "  const files = yield {\n",
              "    promise: Promise.race([pickedPromise, cancelPromise]),\n",
              "    response: {\n",
              "      action: 'starting',\n",
              "    }\n",
              "  };\n",
              "\n",
              "  cancel.remove();\n",
              "\n",
              "  // Disable the input element since further picks are not allowed.\n",
              "  inputElement.disabled = true;\n",
              "\n",
              "  if (!files) {\n",
              "    return {\n",
              "      response: {\n",
              "        action: 'complete',\n",
              "      }\n",
              "    };\n",
              "  }\n",
              "\n",
              "  for (const file of files) {\n",
              "    const li = document.createElement('li');\n",
              "    li.append(span(file.name, {fontWeight: 'bold'}));\n",
              "    li.append(span(\n",
              "        `(${file.type || 'n/a'}) - ${file.size} bytes, ` +\n",
              "        `last modified: ${\n",
              "            file.lastModifiedDate ? file.lastModifiedDate.toLocaleDateString() :\n",
              "                                    'n/a'} - `));\n",
              "    const percent = span('0% done');\n",
              "    li.appendChild(percent);\n",
              "\n",
              "    outputElement.appendChild(li);\n",
              "\n",
              "    const fileDataPromise = new Promise((resolve) => {\n",
              "      const reader = new FileReader();\n",
              "      reader.onload = (e) => {\n",
              "        resolve(e.target.result);\n",
              "      };\n",
              "      reader.readAsArrayBuffer(file);\n",
              "    });\n",
              "    // Wait for the data to be ready.\n",
              "    let fileData = yield {\n",
              "      promise: fileDataPromise,\n",
              "      response: {\n",
              "        action: 'continue',\n",
              "      }\n",
              "    };\n",
              "\n",
              "    // Use a chunked sending to avoid message size limits. See b/62115660.\n",
              "    let position = 0;\n",
              "    do {\n",
              "      const length = Math.min(fileData.byteLength - position, MAX_PAYLOAD_SIZE);\n",
              "      const chunk = new Uint8Array(fileData, position, length);\n",
              "      position += length;\n",
              "\n",
              "      const base64 = btoa(String.fromCharCode.apply(null, chunk));\n",
              "      yield {\n",
              "        response: {\n",
              "          action: 'append',\n",
              "          file: file.name,\n",
              "          data: base64,\n",
              "        },\n",
              "      };\n",
              "\n",
              "      let percentDone = fileData.byteLength === 0 ?\n",
              "          100 :\n",
              "          Math.round((position / fileData.byteLength) * 100);\n",
              "      percent.textContent = `${percentDone}% done`;\n",
              "\n",
              "    } while (position < fileData.byteLength);\n",
              "  }\n",
              "\n",
              "  // All done.\n",
              "  yield {\n",
              "    response: {\n",
              "      action: 'complete',\n",
              "    }\n",
              "  };\n",
              "}\n",
              "\n",
              "scope.google = scope.google || {};\n",
              "scope.google.colab = scope.google.colab || {};\n",
              "scope.google.colab._files = {\n",
              "  _uploadFiles,\n",
              "  _uploadFilesContinue,\n",
              "};\n",
              "})(self);\n",
              "</script> "
            ]
          },
          "metadata": {}
        },
        {
          "output_type": "stream",
          "name": "stdout",
          "text": [
            "Saving Student_performance_data _.csv to Student_performance_data _.csv\n",
            "Impresion del dataset cargado\n",
            "\n",
            "      StudentID  Age  Gender  Ethnicity  ParentalEducation  StudyTimeWeekly  \\\n",
            "0          1001   17       1          0                  2        19.833723   \n",
            "1          1002   18       0          0                  1        15.408756   \n",
            "2          1003   15       0          2                  3         4.210570   \n",
            "3          1004   17       1          0                  3        10.028829   \n",
            "4          1005   17       1          0                  2         4.672495   \n",
            "...         ...  ...     ...        ...                ...              ...   \n",
            "2387       3388   18       1          0                  3        10.680555   \n",
            "2388       3389   17       0          0                  1         7.583217   \n",
            "2389       3390   16       1          0                  2         6.805500   \n",
            "2390       3391   16       1          1                  0        12.416653   \n",
            "2391       3392   16       1          0                  2        17.819907   \n",
            "\n",
            "      Absences  Tutoring  ParentalSupport  Extracurricular  Sports  Music  \\\n",
            "0            7         1                2                0       0      1   \n",
            "1            0         0                1                0       0      0   \n",
            "2           26         0                2                0       0      0   \n",
            "3           14         0                3                1       0      0   \n",
            "4           17         1                3                0       0      0   \n",
            "...        ...       ...              ...              ...     ...    ...   \n",
            "2387         2         0                4                1       0      0   \n",
            "2388         4         1                4                0       1      0   \n",
            "2389        20         0                2                0       0      0   \n",
            "2390        17         0                2                0       1      1   \n",
            "2391        13         0                2                0       0      0   \n",
            "\n",
            "      Volunteering       GPA  GradeClass  \n",
            "0                0  2.929196         2.0  \n",
            "1                0  3.042915         1.0  \n",
            "2                0  0.112602         4.0  \n",
            "3                0  2.054218         3.0  \n",
            "4                0  1.288061         4.0  \n",
            "...            ...       ...         ...  \n",
            "2387             0  3.455509         0.0  \n",
            "2388             0  3.279150         4.0  \n",
            "2389             1  1.142333         2.0  \n",
            "2390             0  1.803297         1.0  \n",
            "2391             1  2.140014         1.0  \n",
            "\n",
            "[2392 rows x 15 columns]\n"
          ]
        }
      ]
    },
    {
      "cell_type": "code",
      "source": [
        "# INFORMACION RESPECTO A LOS DATOS CARGADOS\n",
        "print(df_archvo_importado.info())"
      ],
      "metadata": {
        "colab": {
          "base_uri": "https://localhost:8080/"
        },
        "id": "6xdtsqc0zVrS",
        "outputId": "00af429b-8799-44ec-ef3c-3d72fdbb92a2"
      },
      "execution_count": null,
      "outputs": [
        {
          "output_type": "stream",
          "name": "stdout",
          "text": [
            "<class 'pandas.core.frame.DataFrame'>\n",
            "RangeIndex: 2392 entries, 0 to 2391\n",
            "Data columns (total 15 columns):\n",
            " #   Column             Non-Null Count  Dtype  \n",
            "---  ------             --------------  -----  \n",
            " 0   StudentID          2392 non-null   int64  \n",
            " 1   Age                2392 non-null   int64  \n",
            " 2   Gender             2392 non-null   int64  \n",
            " 3   Ethnicity          2392 non-null   int64  \n",
            " 4   ParentalEducation  2392 non-null   int64  \n",
            " 5   StudyTimeWeekly    2392 non-null   float64\n",
            " 6   Absences           2392 non-null   int64  \n",
            " 7   Tutoring           2392 non-null   int64  \n",
            " 8   ParentalSupport    2392 non-null   int64  \n",
            " 9   Extracurricular    2392 non-null   int64  \n",
            " 10  Sports             2392 non-null   int64  \n",
            " 11  Music              2392 non-null   int64  \n",
            " 12  Volunteering       2392 non-null   int64  \n",
            " 13  GPA                2392 non-null   float64\n",
            " 14  GradeClass         2392 non-null   float64\n",
            "dtypes: float64(3), int64(12)\n",
            "memory usage: 280.4 KB\n",
            "None\n"
          ]
        }
      ]
    },
    {
      "cell_type": "markdown",
      "source": [
        "## MATPLOTLIB\n",
        "* Visualizar datos (estatica, interactiva, animada)\n",
        " * Publicacion\n",
        " * Altamente personalizable\n",
        " * Exportar a multiples archivos\n",
        " * JupiterLab, GUI\n"
      ],
      "metadata": {
        "id": "FT-icK3v0MVT"
      }
    },
    {
      "cell_type": "code",
      "source": [
        "from matplotlib import pyplot as plt\n",
        "\n",
        "# Visualizarcion del dataser importado\n",
        "df_archvo_importado.plot()\n",
        "plt.show()"
      ],
      "metadata": {
        "colab": {
          "base_uri": "https://localhost:8080/",
          "height": 430
        },
        "id": "ngSwFBPe0inR",
        "outputId": "531f170e-0ce1-40de-a19a-ba683d2e0b8d"
      },
      "execution_count": null,
      "outputs": [
        {
          "output_type": "display_data",
          "data": {
            "text/plain": [
              "<Figure size 640x480 with 1 Axes>"
            ],
            "image/png": "[encoded data removed]"
          },
          "metadata": {}
        }
      ]
    },
    {
      "cell_type": "code",
      "source": [
        "# Modificacion del tipo de grafico\n",
        "# Barras\n",
        "df_archvo_importado.plot(kind='bar')\n",
        "plt.show()\n",
        "\n",
        "# Datos dispersos (Scatter)\n",
        "df_archvo_importado.plot(kind='scatter', x='Ethnicity', y='Music') # Changed kind to 'scatter' and used 'Age' as a column name\n",
        "plt.show()\n",
        "\n",
        "# Lineas\n",
        "df_archvo_importado.plot(kind='line', x='Ethnicity', y='Music') # Changed kind to 'line'\n",
        "plt.show()"
      ],
      "metadata": {
        "colab": {
          "base_uri": "https://localhost:8080/",
          "height": 1000
        },
        "id": "cAaUkvtb2UnT",
        "outputId": "0e47fc10-2081-4b3a-8470-52787ceb4821"
      },
      "execution_count": null,
      "outputs": [
        {
          "output_type": "display_data",
          "data": {
            "text/plain": [
              "<Figure size 640x480 with 1 Axes>"
            ],
            "image/png": "[encoded data removed]"
          },
          "metadata": {}
        },
        {
          "output_type": "display_data",
          "data": {
            "text/plain": [
              "<Figure size 640x480 with 1 Axes>"
            ],
            "image/png": "[encoded data removed]"
          },
          "metadata": {}
        },
        {
          "output_type": "display_data",
          "data": {
            "text/plain": [
              "<Figure size 640x480 with 1 Axes>"
            ],
            "image/png": "[encoded data removed]"
          },
          "metadata": {}
        }
      ]
    },
    {
      "cell_type": "markdown",
      "source": [
        "# Scikit-learn\n",
        "\n",
        "* Algoritmos de clasificacion\n",
        "* Regresion\n",
        "* Clustering\n",
        "* Reduccion de dimensionalidad\n",
        "* Modelos de ensamble\n",
        "* Metricas"
      ],
      "metadata": {
        "id": "CP0mquYyBQVr"
      }
    },
    {
      "cell_type": "code",
      "source": [
        "# clasificación simple con Máquinas de Vectores de Soporte (SVM)\n",
        "\n",
        "from sklearn import datasets\n",
        "from sklearn.model_selection import train_test_split\n",
        "from sklearn.preprocessing import StandardScaler\n",
        "from sklearn.svm import SVC\n",
        "from sklearn.metrics import accuracy_score\n",
        "\n",
        "# Cargar el conjunto de datos Iris\n",
        "iris = datasets.load_iris()\n",
        "X = iris.data\n",
        "y = iris.target\n",
        "\n",
        "# Dividir el conjunto de datos en conjunto de entrenamiento y de prueba\n",
        "X_train, X_test, y_train, y_test = train_test_split(X, y, test_size=0.3, random_state=42)\n",
        "\n",
        "# Estandarizar las características\n",
        "scaler = StandardScaler()\n",
        "X_train = scaler.fit_transform(X_train)\n",
        "X_test = scaler.transform(X_test)\n",
        "\n",
        "# Crear y entrenar el modelo SVM\n",
        "clf = SVC(kernel='linear')\n",
        "clf.fit(X_train, y_train)\n",
        "\n",
        "# Realizar prediccon\n",
        "#regresión lineal para predecir el precio de las casas usando el conjunto de datos de California Housing\n",
        "\n",
        "from sklearn import datasets\n",
        "from sklearn.model_selection import train_test_split\n",
        "from sklearn.preprocessing import StandardScaler\n",
        "from sklearn.linear_model import LinearRegression\n",
        "from sklearn.metrics import mean_squared_error, r2_score\n",
        "from sklearn.datasets import fetch_california_housing\n",
        "\n",
        "# Cargar el conjunto de datos de California Housing\n",
        "california = fetch_california_housing()\n",
        "X = california.data\n",
        "y = california.target\n",
        "\n",
        "# Dividir el conjunto de datos en conjunto de entrenamiento y de prueba\n",
        "X_train, X_test, y_train, y_test = train_test_split(X, y, test_size=0.3, random_state=42)\n",
        "\n",
        "# Estandarizar las características\n",
        "scaler = StandardScaler()\n",
        "X_train = scaler.fit_transform(X_train)\n",
        "X_test = scaler.transform(X_test)\n",
        "\n",
        "# Crear y entrenar el modelo de regresión lineal\n",
        "reg = LinearRegression()\n",
        "reg.fit(X_train, y_train)\n",
        "\n",
        "# Realizar predicciones\n",
        "y_pred = reg.predict(X_test)\n",
        "\n",
        "# Evaluar el rendimiento del modelo\n",
        "mse = mean_squared_error(y_test, y_pred)\n",
        "r2 = r2_score(y_test, y_pred)\n",
        "print(f\"Error Cuadrático Medio (MSE): {mse:.2f}\")\n",
        "print(f\"Coeficiente de determinación (R^2): {r2:.2f}\")"
      ],
      "metadata": {
        "colab": {
          "base_uri": "https://localhost:8080/"
        },
        "id": "_46GmfA3BR1o",
        "outputId": "143e7768-d53e-4494-d189-ebef60bebe45"
      },
      "execution_count": null,
      "outputs": [
        {
          "output_type": "stream",
          "name": "stdout",
          "text": [
            "Error Cuadrático Medio (MSE): 0.53\n",
            "Coeficiente de determinación (R^2): 0.60\n"
          ]
        }
      ]
    },
    {
      "cell_type": "markdown",
      "source": [
        "**Nota de los resultados:**\n",
        "Un buen modelo de regresión lineal debería tener un MSE bajo y un R² alto. En este caso, con un R² de 0.60, el modelo está capturando la mayor parte de la variación en los datos, lo que sugiere que es un modelo relativamente bueno para predecir los precios de las casas en el conjunto de datos de California Housing."
      ],
      "metadata": {
        "id": "WOQ7lOKqDezX"
      }
    },
    {
      "cell_type": "markdown",
      "source": [
        "##Tensorflow\n",
        "\n",
        "Biblioteca de código abierto desarrollada por Google para el aprendizaje automático y la inteligencia artificial.\n",
        "\n",
        " * Permite la ejecución en diversas plataformas, como CPUs, GPUs, y TPUs\n",
        " * Incluye Keras para una fácil creación de prototipos y TensorFlow Estimators para el desarrollo, entrenamiento y evaluación de modelos.\n",
        " * Ofrece TensorBoard para monitorear y depurar experimentos de aprendizaje automático mediante gráficos interactivos.\n",
        "\n"
      ],
      "metadata": {
        "id": "Bxrgb4Of8ijD"
      }
    },
    {
      "cell_type": "code",
      "source": [
        "## Crear y entrenar un modelo de red neuronal simple utilizando TensorFlow y Keras\n",
        "##Importar la biblioteca\n",
        "import tensorflow as tf\n",
        "from tensorflow.keras.models import Sequential\n",
        "from tensorflow.keras.layers import Dense\n",
        "import numpy as np\n",
        "\n",
        "# Datos de entrada (XOR)\n",
        "X = np.array([[0,0], [0,1], [1,0], [1,1]], dtype=float)\n",
        "y = np.array([[0], [1], [1], [0]], dtype=float)\n",
        "\n",
        "# Crear el modelo\n",
        "model = Sequential([\n",
        "    Dense(2, input_dim=2, activation='relu'),\n",
        "    Dense(1, activation='sigmoid')\n",
        "])\n",
        "\n",
        "# Compilar el modelo\n",
        "model.compile(optimizer='adam', loss='binary_crossentropy', metrics=['accuracy'])\n",
        "\n",
        "# Entrenar el modelo\n",
        "model.fit(X, y, epochs=500, verbose=0)\n",
        "\n",
        "# Evaluar y predecir\n",
        "loss, accuracy = model.evaluate(X, y, verbose=0)\n",
        "predictions = model.predict(X)\n",
        "\n",
        "print(f'Accuracy: {accuracy*100:.2f}%')\n",
        "print(\"Predicciones:\")\n",
        "print(predictions)\n",
        "\n"
      ],
      "metadata": {
        "colab": {
          "base_uri": "https://localhost:8080/"
        },
        "id": "xfnMqwFy-AdK",
        "outputId": "50db6afb-e828-4f03-cd1f-6ea1162a0df2"
      },
      "execution_count": null,
      "outputs": [
        {
          "output_type": "stream",
          "name": "stdout",
          "text": [
            "1/1 [==============================] - 0s 68ms/step\n",
            "Accuracy: 100.00%\n",
            "Predicciones:\n",
            "[[0.4814089 ]\n",
            " [0.5329113 ]\n",
            " [0.54153615]\n",
            " [0.45969328]]\n"
          ]
        }
      ]
    },
    {
      "cell_type": "markdown",
      "source": [
        "**Nota de los resultados:**\n",
        "La precisión del 100% indica que el modelo clasifica correctamente las etiquetas en el conjunto de entrenamiento, pero las predicciones cercanas a 0.5 sugieren que podría haber problemas con la convergencia o la calidad del entrenamiento."
      ],
      "metadata": {
        "id": "MAMDqx28AvZ3"
      }
    },
    {
      "cell_type": "markdown",
      "source": [],
      "metadata": {
        "id": "NXd9QzjXKCfL"
      }
    },
    {
      "cell_type": "markdown",
      "source": [],
      "metadata": {
        "id": "2YkDCLmCBMNm"
      }
    }
  ]
}